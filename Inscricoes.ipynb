{
 "cells": [
  {
   "cell_type": "code",
   "execution_count": 1,
   "id": "6f2695ae",
   "metadata": {},
   "outputs": [],
   "source": [
    "import pandas as pd\n",
    "import seaborn as sns\n",
    "import plotly.express as px\n",
    "import urllib.request\n",
    "sns.set()\n",
    "\n",
    "import matplotlib.pyplot as plt\n",
    "%matplotlib inline"
   ]
  },
  {
   "cell_type": "code",
   "execution_count": null,
   "id": "ddc063df",
   "metadata": {},
   "outputs": [],
   "source": [
    "colors = [\"#1A3B47\", \"#FFEA80\",\"#F7AC6F\",\"#E88AA2\",\"#79C5B4\",\"#639FCB\",\"#7874B4\"]\n",
    "empresa_palette = sns.color_palette(colors)"
   ]
  },
  {
   "cell_type": "code",
   "execution_count": null,
   "id": "d044ed93",
   "metadata": {},
   "outputs": [],
   "source": [
    "import glob\n",
    "inscricoes_file = glob.glob(\"Workshop*.xlsx\")"
   ]
  },
  {
   "cell_type": "code",
   "execution_count": null,
   "id": "b2b1027f",
   "metadata": {},
   "outputs": [],
   "source": [
    "consolidado = {\"file\":\"Consolidado de emails.xlsx\",\"sheet\":\"Consolidado\"}\n",
    "inscritos = {\"file\":inscricoes_file[0],\"sheet\":\"Endereços\"}"
   ]
  },
  {
   "cell_type": "code",
   "execution_count": null,
   "id": "f704b3c6",
   "metadata": {},
   "outputs": [],
   "source": [
    "df_consolidado = pd.read_excel(consolidado[\"file\"], consolidado[\"sheet\"] )\n",
    "df_consolidado.shape"
   ]
  },
  {
   "cell_type": "code",
   "execution_count": null,
   "id": "f29f303e",
   "metadata": {},
   "outputs": [],
   "source": [
    "df_inscritos = pd.read_excel(inscritos[\"file\"],inscritos[\"sheet\"])\n",
    "df_inscritos.shape"
   ]
  },
  {
   "cell_type": "code",
   "execution_count": null,
   "id": "11733f14",
   "metadata": {},
   "outputs": [],
   "source": [
    "df_merged = pd.merge(df_inscritos, df_consolidado, how=\"outer\", left_on=\"Email2\", right_on=\"Email\")\n",
    "df_merged.drop(columns=[\"Email_x\",\"Name\",\"genre_vowel\"], inplace=True)\n",
    "df_merged.shape"
   ]
  },
  {
   "cell_type": "code",
   "execution_count": null,
   "id": "acb2473a",
   "metadata": {},
   "outputs": [],
   "source": [
    "df_merged.head(3)"
   ]
  },
  {
   "cell_type": "code",
   "execution_count": null,
   "id": "bbd101c2",
   "metadata": {},
   "outputs": [],
   "source": [
    "df_merged.columns"
   ]
  },
  {
   "cell_type": "code",
   "execution_count": null,
   "id": "188e3c63",
   "metadata": {},
   "outputs": [],
   "source": [
    "df_merged.rename(columns={\"Todo material enviado no kit deverá ser devolvido integralmente até o dia 25 de junho.\":\"Aceite\"}, inplace=True)"
   ]
  },
  {
   "cell_type": "code",
   "execution_count": null,
   "id": "e1332d5b",
   "metadata": {},
   "outputs": [],
   "source": [
    "df_accepted = df_merged.dropna(subset=[\"Aceite\"])"
   ]
  },
  {
   "cell_type": "code",
   "execution_count": null,
   "id": "ed07b5b8",
   "metadata": {},
   "outputs": [],
   "source": [
    "df_accepted.loc[:,'Mailing de'].fillna(\"Outros\")\n",
    "df_accepted.shape"
   ]
  },
  {
   "cell_type": "code",
   "execution_count": null,
   "id": "0b194b47",
   "metadata": {},
   "outputs": [],
   "source": [
    "plt.figure(figsize=(20,10))\n",
    "plt.rcParams.update({'figure.autolayout': True})\n",
    "\n",
    "ax = sns.countplot(x=\"Estado\", data=df_accepted, palette=empresa_palette\n",
    ", order=df_merged[\"Estado\"].value_counts().index\n",
    ")\n",
    "for p in ax.patches:\n",
    "    ax.annotate('{:.0f}'.format(p.get_height()), (p.get_x()+(p.get_width()/2), p.get_height()+0.2));"
   ]
  },
  {
   "cell_type": "code",
   "execution_count": null,
   "id": "3b07132c",
   "metadata": {},
   "outputs": [],
   "source": [
    "plt.figure(figsize=(20,10))\n",
    "plt.rcParams.update({'figure.autolayout': True})\n",
    "\n",
    "ax = sns.countplot(x=\"Cidade\", data=df_accepted, palette=empresa_palette,\n",
    "order=df_merged[\"Cidade\"].value_counts().index\n",
    ")\n",
    "for p in ax.patches:\n",
    "    ax.annotate('{:.0f}'.format(p.get_height()), (p.get_x()+(p.get_width()/2), p.get_height()+0.2));\n",
    "\n",
    "plt.xticks(rotation=90);"
   ]
  },
  {
   "cell_type": "code",
   "execution_count": null,
   "id": "2657bf71",
   "metadata": {},
   "outputs": [],
   "source": [
    "plt.figure(figsize=(20,10))\n",
    "plt.rcParams.update({'figure.autolayout': True})\n",
    "\n",
    "ax =sns.countplot(x=\"Mailing de\",data=df_accepted, palette=empresa_palette, \n",
    "order=df_accepted[\"Mailing de\"].value_counts().index\n",
    ")\n",
    "ax.set_xlabel(\"Convidado por\")\n",
    "\n",
    "for p in ax.patches:\n",
    "    ax.annotate('{:.0f}'.format(p.get_height()), (p.get_x()+(p.get_width()/2), p.get_height()+0.2))\n",
    "\n",
    "plt.xticks(rotation=90);\n",
    "\n",
    "plt.savefig(\"charts/base_total.jpg\",bbox_inches='tight')"
   ]
  },
  {
   "cell_type": "code",
   "execution_count": null,
   "id": "5711ebc8",
   "metadata": {},
   "outputs": [],
   "source": [
    "plt.figure(figsize=(20,10))\n",
    "plt.rcParams.update({'figure.autolayout': True})\n",
    "ax = sns.countplot(x=\"Selecione a melhor data para assistir ao workshop\", data=df_accepted)\n",
    "for p in ax.patches:\n",
    "    ax.annotate('{:.0f}'.format(p.get_height()), (p.get_x()+(p.get_width()/2), p.get_height()+0.2))"
   ]
  },
  {
   "cell_type": "code",
   "execution_count": null,
   "id": "830f196f",
   "metadata": {},
   "outputs": [],
   "source": [
    "df_accepted.columns"
   ]
  },
  {
   "cell_type": "code",
   "execution_count": null,
   "id": "3fb5e3bc",
   "metadata": {},
   "outputs": [],
   "source": [
    "grafico = px.parallel_categories(df_accepted, dimensions=['Mailing de', 'Selecione a melhor data para assistir ao workshop'], width=1400)\n",
    "grafico.show()\n"
   ]
  },
  {
   "cell_type": "code",
   "execution_count": null,
   "id": "b0c6f372",
   "metadata": {},
   "outputs": [],
   "source": [
    "df_accepted.head(3)"
   ]
  },
  {
   "cell_type": "code",
   "execution_count": null,
   "id": "6c9e2f75",
   "metadata": {},
   "outputs": [],
   "source": [
    "\n",
    "if \"Day\" in df_accepted.columns:\n",
    "    df_accepted.drop(columns=[\"Day\"], inplace=True)\n",
    "\n",
    "df_dates = df_accepted.copy()\n",
    "df_dates.loc[:,\"Hour\"]=df_accepted[\"Start time\"].dt.hour\n",
    "df_dates.loc[:,\"Day\"]=df_accepted[\"Start time\"].dt.day\n",
    "df_dates.loc[:,\"Month\"]=df_accepted[\"Start time\"].dt.month\n",
    "df_dates.set_index(\"Month\", inplace=True)\n"
   ]
  },
  {
   "cell_type": "code",
   "execution_count": null,
   "id": "0c8826a1",
   "metadata": {},
   "outputs": [],
   "source": [
    "plt.figure(figsize=(20,10))\n",
    "plt.rcParams.update({'figure.autolayout': True})\n",
    "sns.lineplot(data=df_dates.groupby([\"Day\"]).count())"
   ]
  },
  {
   "cell_type": "code",
   "execution_count": null,
   "id": "1f59c283",
   "metadata": {},
   "outputs": [],
   "source": []
  }
 ],
 "metadata": {
  "kernelspec": {
   "display_name": "Python 3 (ipykernel)",
   "language": "python",
   "name": "python3"
  },
  "language_info": {
   "codemirror_mode": {
    "name": "ipython",
    "version": 3
   },
   "file_extension": ".py",
   "mimetype": "text/x-python",
   "name": "python",
   "nbconvert_exporter": "python",
   "pygments_lexer": "ipython3",
   "version": "3.10.4"
  }
 },
 "nbformat": 4,
 "nbformat_minor": 5
}
